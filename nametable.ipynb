{
 "cells": [
  {
   "cell_type": "code",
   "execution_count": 1,
   "metadata": {},
   "outputs": [],
   "source": [
    "import pathlib\n",
    "import re\n",
    "import numpy as np\n",
    "\n",
    "NAMETABLES = pathlib.Path(\"gfx/nametables\") \n",
    "\n",
    "OG_GAME_NAMETABLE =  NAMETABLES / \"game_nametable_og.bin\"\n",
    "GAME_NAMETABLE =  NAMETABLES / \"game_nametable.bin\"\n",
    "\n",
    "OG_TITLE_NAMETABLE = NAMETABLES /  \"title_screen_nametable_og.bin\"\n",
    "TITLE_NAMETABLE =  NAMETABLES / \"title_screen_nametable.bin\"\n",
    "\n",
    "LEVEL_NAMETABLE =  NAMETABLES / \"level_menu_nametable.bin\"\n",
    "OG_LEVEL_NAMETABLE =  NAMETABLES / \"level_menu_nametable_og.bin\""
   ]
  },
  {
   "cell_type": "code",
   "execution_count": 2,
   "metadata": {},
   "outputs": [],
   "source": [
    "\n",
    "def nt_to_raw(nametable):\n",
    "    results = []\n",
    "    with open(nametable, \"rb\") as file:\n",
    "        while True:\n",
    "            chunk = file.read(3)\n",
    "            if not chunk or chunk == 0xFF:\n",
    "                break\n",
    "            length = chunk[-1]\n",
    "            # print (chunk[0],chunk[1])\n",
    "            results.extend(list(file.read(length)))\n",
    "    return results\n"
   ]
  },
  {
   "cell_type": "code",
   "execution_count": 3,
   "metadata": {},
   "outputs": [],
   "source": [
    "def raw_to_nt(ntbytes, filename):\n",
    "    start_byte = 0x2000\n",
    "    suffix = 0x20\n",
    "    finale = 0xFF\n",
    "    results = []\n",
    "    ntbytes_len = len(ntbytes)\n",
    "    # print(f'{ntbytes_len}')\n",
    "    for i in range(0, ntbytes_len, 32):\n",
    "        chunk = ntbytes[i: i + 32]\n",
    "        results.extend(list((start_byte + i).to_bytes(2, byteorder=\"big\")))\n",
    "        results.append(suffix)\n",
    "        results.extend(chunk)\n",
    "    results.append(finale)\n",
    "    with open(filename, 'wb') as file:\n",
    "        file.write(bytes(results) )\n",
    "\n"
   ]
  },
  {
   "cell_type": "code",
   "execution_count": 4,
   "metadata": {},
   "outputs": [],
   "source": [
    "def get_array_grid_and_footer(path):\n",
    "\n",
    "    ntbytes = nt_to_raw(path)\n",
    "    attr_array = np.array(ntbytes, dtype=np.uint8)\n",
    "    footer: np.array = attr_array[-64:]\n",
    "    footer.shape = 8,8\n",
    "\n",
    "    nametable = attr_array[:-64]\n",
    "\n",
    "    nametable_grid = nametable.copy()\n",
    "    nametable_grid.shape = 30,32\n",
    "    return nametable, nametable_grid, footer\n"
   ]
  },
  {
   "cell_type": "code",
   "execution_count": 5,
   "metadata": {},
   "outputs": [],
   "source": [
    "def print_attr_table(footer):\n",
    "    print(\"Original Attr Table:\")\n",
    "\n",
    "    for i, row in enumerate(footer):\n",
    "        line1 = \"\"\n",
    "        line2 = \"\"\n",
    "        for byte in row:\n",
    "            tl =  byte & 0b00000011\n",
    "            tr = (byte & 0b00001100) >> 2\n",
    "            bl = (byte & 0b00110000) >> 4\n",
    "            br = (byte & 0b11000000) >> 6\n",
    "            line1 += f'{tl}{tr}'\n",
    "            line2 += f'{bl}{br}'\n",
    "        print(line1, sep='')\n",
    "        print(line2, sep='')"
   ]
  },
  {
   "cell_type": "code",
   "execution_count": 6,
   "metadata": {},
   "outputs": [],
   "source": [
    "import string\n",
    "\n",
    "def print_and_get_filler(nametable):\n",
    "    filler = \"abcdefghijklmnopqrstuvwxyz!#$%&'()*+,-/:;<=>?@[]^_`{|}~¹º»¼½¾¿ÀÁÂÃÄÅÆÇÈÉÊËÌÍÎÏÐÑÒÓÔÕÖ×ØÙÚÛÜÝÞßàáâãäåæçèéêëìíîïðñòóôõö÷øùúûüýþÿЉЊЋЌЍЎЏАБВГДЕЖЗИЙКЛМНОПРСТУФХЦЧШЩЪЫЬЭЮЯабвгде\"\n",
    "\n",
    "    filler = list(filler)\n",
    "    filler.reverse()\n",
    "\n",
    "\n",
    "    plot = []\n",
    "    plot.extend(string.digits)\n",
    "    plot.extend(string.ascii_uppercase)\n",
    "    plot.extend(list(\".\" * (255 - len(plot))))\n",
    "    plot.append(\" \")\n",
    "    fails = 0\n",
    "    for byte in nametable:\n",
    "        if plot[byte] == \".\":\n",
    "            try:\n",
    "                plot[byte] = filler.pop()\n",
    "            except:\n",
    "                fails += 1\n",
    "    print(fails)\n",
    "\n",
    "    print(len([p for p in plot if p != \".\"]))\n",
    "\n",
    "    for i in range(0,256,16):\n",
    "        print(''.join(plot[i:i+16]))\n",
    "    return plot"
   ]
  },
  {
   "cell_type": "code",
   "execution_count": 7,
   "metadata": {},
   "outputs": [],
   "source": [
    "\n",
    "\n",
    "\n",
    "def print_nametable_and_get_reverse_index(filler, nametable):\n",
    "    # index = re.findall(r'[^\\n]', filler)\n",
    "    reverse_index = {c:i for  i, c in enumerate(filler)}\n",
    "\n",
    "\n",
    "    for y,row in enumerate(nametable):\n",
    "        for x,column in enumerate(row):\n",
    "            print(filler[column],end=\"\")\n",
    "        print(\"\")\n",
    "    return reverse_index\n"
   ]
  },
  {
   "cell_type": "code",
   "execution_count": 8,
   "metadata": {},
   "outputs": [],
   "source": [
    "\n",
    "\n",
    "\n",
    "def convert_attr_table_to_bytes(attr_table):\n",
    "    attr_values = re.findall('[0123]', attr_table)\n",
    "    attrs = []\n",
    "    for row in range(0, len(attr_values), 32):\n",
    "        data = attr_values[row:row+32]\n",
    "        line1 = data[:16]\n",
    "        line2 = data[16:]\n",
    "        for i in range(0,16,2):\n",
    "            tl = int(line1[i])\n",
    "            tr = int(line1[i+1]) << 2\n",
    "            bl = int(line2[i]) << 4\n",
    "            br = int(line2[i+1]) << 6\n",
    "            byte = br | bl | tr | tl\n",
    "            attrs.append(byte)\n",
    "    return attrs"
   ]
  },
  {
   "cell_type": "code",
   "execution_count": 9,
   "metadata": {},
   "outputs": [],
   "source": [
    "def rebuild_nametable(table_grid, reverse_index, attr_table, target_file):\n",
    "    attrs = convert_attr_table_to_bytes(attr_table)\n",
    "    table_grid = re.findall(r'[^\\n]', table_grid)\n",
    "\n",
    "    nametable_rebuilt = [reverse_index[t] for t in table_grid]\n",
    "    nametable_rebuilt.extend(attrs)\n",
    "    # nametable_rebuilt = np.array(nametable_rebuilt, dtype=np.uint8)\n",
    "\n",
    "    raw_to_nt(nametable_rebuilt, target_file)\n"
   ]
  },
  {
   "cell_type": "code",
   "execution_count": 10,
   "metadata": {},
   "outputs": [],
   "source": [
    "game_array, game_grid, game_footer = get_array_grid_and_footer(OG_GAME_NAMETABLE)"
   ]
  },
  {
   "cell_type": "code",
   "execution_count": 13,
   "metadata": {},
   "outputs": [],
   "source": [
    "level_array, level_grid, level_footer = get_array_grid_and_footer(OG_LEVEL_NAMETABLE)"
   ]
  },
  {
   "cell_type": "code",
   "execution_count": 12,
   "metadata": {},
   "outputs": [],
   "source": [
    "\n",
    "title_array, title_grid, title_footer = get_array_grid_and_footer(OG_TITLE_NAMETABLE)"
   ]
  },
  {
   "cell_type": "code",
   "execution_count": 24,
   "metadata": {},
   "outputs": [
    {
     "name": "stdout",
     "output_type": "stream",
     "text": [
      "0\n",
      "192\n",
      "0123456789ABCDEF\n",
      "GHIJKLMNOPQRSTUV\n",
      "WXYZ............\n",
      "................\n",
      "qksr............\n",
      ".....àáâãäå.¼Ê..\n",
      "lmd.æçèéêëìíÄÐ..\n",
      "ijepîïðñòóôõÈÉÅÑ\n",
      "fchaö÷øùúûüýÎÏÕÖ\n",
      "bg.ßþÿЉЊЋЌЍЎ>ÔÝÞ\n",
      "no.ËЏАБВГДЕЖÀÛÜº\n",
      "*+.ÃЗИЙКЛМНО#.()\n",
      "$%|tuvwxyz!&'Í^_\n",
      "?@¿,-/:;.<=.ÒÓ.½\n",
      "~¹Ç`¾×.{[]}ØÙÚ..\n",
      "ÁÂÌ.ÆПРСТУФХ.». \n"
     ]
    }
   ],
   "source": [
    "title_filler = print_and_get_filler(title_array)"
   ]
  },
  {
   "cell_type": "code",
   "execution_count": 14,
   "metadata": {},
   "outputs": [
    {
     "name": "stdout",
     "output_type": "stream",
     "text": [
      "0\n",
      "86\n",
      "0123456789ABCDEF\n",
      "GHIJKLMNOPQRSTUV\n",
      "WXYZu...)*,-/>;@\n",
      "........qrstvwxy\n",
      "[pm^z!#$%&'(:<=.\n",
      "+?..............\n",
      "abc.............\n",
      "ijl]............\n",
      "gkdf............\n",
      "eh..............\n",
      "on..............\n",
      "................\n",
      "................\n",
      "................\n",
      "................\n",
      "............... \n"
     ]
    }
   ],
   "source": [
    "level_filler = print_and_get_filler(level_array)"
   ]
  },
  {
   "cell_type": "code",
   "execution_count": 19,
   "metadata": {},
   "outputs": [
    {
     "name": "stdout",
     "output_type": "stream",
     "text": [
      "0\n",
      "116\n",
      "0123456789ABCDEF\n",
      "GHIJKLMNOPQRSTUV\n",
      "WXYZv...........\n",
      "!#$%&¾¿Àrstuwxyz\n",
      ":;<ÁÂÃ{|.@[]ÇÈÉ.\n",
      "=>?ÄÅÆ}~¹^_`ÊËÌ/\n",
      "º»¼½ÍÎÏb.'()*+,-\n",
      "kldjÐg.cfea.....\n",
      "opnhmq.i........\n",
      "................\n",
      "................\n",
      "................\n",
      "................\n",
      "................\n",
      "................\n",
      "............... \n"
     ]
    }
   ],
   "source": [
    "\n",
    "game_filler = print_and_get_filler(game_array)"
   ]
  },
  {
   "cell_type": "code",
   "execution_count": null,
   "metadata": {},
   "outputs": [
    {
     "name": "stdout",
     "output_type": "stream",
     "text": [
      "Original Attr Table:\n",
      "2222222222222222\n",
      "2222222222222222\n",
      "2222222222222222\n",
      "2333333333333332\n",
      "2111111111111122\n",
      "2222222222222222\n",
      "2200000000000022\n",
      "2000000000000022\n",
      "2000000000333322\n",
      "2200000000333322\n",
      "2200000000333322\n",
      "2200000000333322\n",
      "2220311100000022\n",
      "2222222222222222\n",
      "2222222222222222\n",
      "0000000000000000\n"
     ]
    }
   ],
   "source": [
    "print_attr_table(title_footer)"
   ]
  },
  {
   "cell_type": "code",
   "execution_count": 15,
   "metadata": {},
   "outputs": [
    {
     "name": "stdout",
     "output_type": "stream",
     "text": [
      "Original Attr Table:\n",
      "2222222222222222\n",
      "2222222222222222\n",
      "2211122222211122\n",
      "2211222212222222\n",
      "2211222202222222\n",
      "2213333333333122\n",
      "2213333333333122\n",
      "2213333333333122\n",
      "2200000000000022\n",
      "2200000000000022\n",
      "2200000000000022\n",
      "2200000000000022\n",
      "2200000000000022\n",
      "2222222222222222\n",
      "2222222222222222\n",
      "0000000000000000\n"
     ]
    }
   ],
   "source": [
    "print_attr_table(level_footer)"
   ]
  },
  {
   "cell_type": "code",
   "execution_count": null,
   "metadata": {},
   "outputs": [
    {
     "name": "stdout",
     "output_type": "stream",
     "text": [
      "Original Attr Table:\n",
      "3333333333333333\n",
      "3333333333333333\n",
      "3333333333333333\n",
      "3333332222233333\n",
      "3333332222233333\n",
      "3220032222233333\n",
      "3220032222233333\n",
      "3220032222233333\n",
      "3220032222233333\n",
      "3220032222233333\n",
      "3220032222233333\n",
      "3220032222233333\n",
      "3220032222233333\n",
      "3333333333333333\n",
      "3333333333333333\n",
      "0000000000000000\n"
     ]
    }
   ],
   "source": [
    "print_attr_table(game_footer)"
   ]
  },
  {
   "cell_type": "code",
   "execution_count": 16,
   "metadata": {},
   "outputs": [
    {
     "name": "stdout",
     "output_type": "stream",
     "text": [
      "ababcdcefcccdghghijcdgkkfefccgkh\n",
      "ijijlgmlenlokfofofgpfekfgnenokfd\n",
      "gkkfofdddgnqrrrrrrrrsdgkkfdgkhab\n",
      "ghcqrrrrrrrt BuTYPE vrrrrrrrsdij\n",
      "cllt       wxxxxxxxxy       vekf\n",
      "ldlt                        vdgh\n",
      "ofdt                        vabl\n",
      "ekft    z!!!!!#    z!!!!!!# vijd\n",
      "dght    $LEVEL%    $HEIGHT% vgkh\n",
      "ablt    &'''''(    &''''''( vccd\n",
      "ijdt  )*+*+*+*+*,  )*+*+*,  vloh\n",
      "gkht  -0-1-2-3-4/  -0-1-2/  vlcd\n",
      "ccdt  :;<;<;<;<;=  :;<;<;=  vdlg\n",
      "loht  -5-6-7-8-9/  -3-4-5/  vcof\n",
      "lcdt  >;?;?;?;?;@  >;?;?;@  vokf\n",
      "dlgt                        vekf\n",
      "coft                        vdgh\n",
      "okft )********************, vabl\n",
      "cght -    NAME  SCORE  LV / vijd\n",
      "mclt :;;;;;;;;;;;;;;;;;;;;= vgkh\n",
      "dldt - 1                  / vccd\n",
      "gnct -                    / vloh\n",
      "ablt - 2                  / vlcd\n",
      "ijlt -                    / vdlg\n",
      "ccdt - 3                  / vcof\n",
      "l[]t >;;;;;;;;;;;;;;;;;;;;@ vokf\n",
      "ldct                        vcab\n",
      "denwxxxxxxxxxxxxxxxxxxxxxxxxylij\n",
      "cdefcgkhgkkfefefabekfcg^fghghofc\n",
      "lgngpfcdg^fgnclcijdgkncdabofofgp\n"
     ]
    }
   ],
   "source": [
    "level_reverse_index = print_nametable_and_get_reverse_index(level_filler, level_grid)"
   ]
  },
  {
   "cell_type": "code",
   "execution_count": 20,
   "metadata": {},
   "outputs": [
    {
     "name": "stdout",
     "output_type": "stream",
     "text": [
      "abccdeafgabcfhfhcibfjiklbifgadab\n",
      "dhicibfjidhifeeaifmanaopneaifhfq\n",
      "idaifmanaibrsssssssssstrssssssti\n",
      "bcrsssssstcu LINESv   wu      wb\n",
      "ciu vTYPEwcxyyyyyyyyyyzuTOP   wc\n",
      "oaxyyyyyyzi!##########$u000000wc\n",
      "feeabklbfej%          &u      wi\n",
      "eafehopneai%          &uSCORE wb\n",
      "jrsssssssst%          &u000000wn\n",
      "cu'()*+,-/w%          &u      wb\n",
      "iu        w%          &xyyyyyyzc\n",
      "au :;<    w%          &feeafejfh\n",
      "au =>?000 w%          &!####$ibf\n",
      "au @[]    w%          &%NEXT&dhf\n",
      "bu ^_`000 w%          &%    &ida\n",
      "cu {|     w%          &%    &fhk\n",
      "cu }~¹000 w%          &%    &dao\n",
      "iu º»     w%          &%    &cfj\n",
      "lu ¼½ 000 w%          &¾¿¿¿¿Àibc\n",
      "pu ÁÂÃ    w%          &rssssstci\n",
      "au ÄÅÆ000 w%          &uLEVELwcf\n",
      "au ÇÈÉ    w%          &u     wib\n",
      "bu ÊËÌ000 w%          &xyyyyyzfq\n",
      "hu        w%          &bfgabdeai\n",
      "ju ÍÎÏ000 w%          &Ðaifqibfe\n",
      "cu        w%          &ifejidhda\n",
      "ixyyyyyyyyz¾¿¿¿¿¿¿¿¿¿¿Àbklibifhb\n",
      "bbfgadeabfjfjbdadeafeeacopfqbfeh\n",
      "cnjibibdhbnacccbibkldaboafjicfee\n",
      "oaifmacifmabicicdhopcbneabcfhdab\n"
     ]
    }
   ],
   "source": [
    "\n",
    "\n",
    "game_reverse_index = print_nametable_and_get_reverse_index(game_filler, game_grid)\n"
   ]
  },
  {
   "cell_type": "code",
   "execution_count": 26,
   "metadata": {},
   "outputs": [
    {
     "name": "stdout",
     "output_type": "stream",
     "text": [
      "ababcadefcghbaijdfkalmddfgdnafcg\n",
      "fodhfcohlmhfobpbofcgijeqaeefccah\n",
      "fcofrabaijfcgedhdlmhdfohdhna lmd\n",
      "bcadhfo fccahhefsijbo  fka   ijq\n",
      "hdfka        fo h  h          dh\n",
      "bo                            ng\n",
      "h  tuvwxvyz!tuvwxv#$%v &'()*+ dh\n",
      "bp ,-/:;/ <=,-/:;/>?@/ []^_   ed\n",
      "e  ` / {/ |}` / {/>~¹/ º»¼½   ee\n",
      "h    /  /¾¿   /  /ÀÁÂ/ Ã»ÄÅ  dhe\n",
      "bca  /  /ÆÇ   /  /È  / ÉÊ»Ë  ngh\n",
      "hd   /  / ÌÍ  /  /ÎÏ / ÎÐ»Ñ   hd\n",
      "fra  /  / ÒÓ  /  />Ô / >ÔÕÖ   dq\n",
      "ah   ×  ×ØÙÚ  ×  ×ÀÛÜ× ÀÛÝÞ   eh\n",
      "lm                            na\n",
      "ij                           fcg\n",
      "bp                      ß   frah\n",
      "ed                   àáâãäå  hfg\n",
      "hng                 æçèéêëìí  de\n",
      "cdh                 îïðñòóôõ boh\n",
      "dqa    PUSH START   ö÷øùúûüý hbp\n",
      "eh                  þÿЉЊЋЌЍЎ  ef\n",
      "na                  ЏАБВГДЕЖ  hd\n",
      "cca                 ЗИЙКЛМНО  bo\n",
      "md                            hd\n",
      "je fra   П 1989  РСТУФХ      fco\n",
      "ge  h                     d   lm\n",
      "hhd   fg    dfcg bpbad ddfsbcaij\n",
      "lmqa ddnafraefghdefofsbonghhdfgf\n",
      "ijhfconcadhfodefshbcahhlmhdfkana\n"
     ]
    }
   ],
   "source": [
    "\n",
    "title_reverse_index = print_nametable_and_get_reverse_index(title_filler, title_grid)"
   ]
  },
  {
   "cell_type": "code",
   "execution_count": 28,
   "metadata": {},
   "outputs": [],
   "source": [
    "attr_table = \"\"\"\n",
    "3333333333333333\n",
    "3333333333333333\n",
    "3333333333333333\n",
    "3333332222233333\n",
    "3333332222233333\n",
    "3220032222233333\n",
    "3220032222233333\n",
    "3220032222233333\n",
    "3220032222233333\n",
    "3220032222233333\n",
    "3220032222233333\n",
    "3220032222233333\n",
    "3220032222233333\n",
    "3333333333333333\n",
    "3333333333333333\n",
    "0000000000000000\n",
    "\"\"\"\n",
    "\n",
    "\n",
    "\n",
    "table_grid_raw = r\"\"\"\n",
    "abccdeafgabcfhfhcibfjiklbifgadab\n",
    "dhicibfjidhifeeaifmanaopneaifhfq\n",
    "idaifmanaibrsssssssssstrssssssti\n",
    "bcrsssssstcu LINESv   wu      wb\n",
    "ciu vTYPEwcxyyyyyyyyyyzuTOP   wc\n",
    "oaxyyyyyyzi!##########$u000000wc\n",
    "feeabklbfej%          &u      wi\n",
    "eafehopneai%          &uSCORE wb\n",
    "jrsssssssst%          &u000000wn\n",
    "cu'()*+,-/w%          &u      wb\n",
    "iu        w%          &xyyyyyyzc\n",
    "au :;<    w%          &feeafejfh\n",
    "au =>?000 w%          &!####$ibf\n",
    "au @[]    w%          &%NEXT&dhf\n",
    "bu ^_`000 w%          &%    &ida\n",
    "cu {|     w%          &%    &fhk\n",
    "cu }~¹000 w%          &%    &dao\n",
    "iu º»     w%          &%    &cfj\n",
    "lu ¼½ 000 w%          &¾¿¿¿¿Àibc\n",
    "pu ÁÂÃ    w%          &rssssstci\n",
    "au ÄÅÆ000 w%          &uLEVELwcf\n",
    "au ÇÈÉ    w%          &u     wib\n",
    "bu ÊËÌ000 w%          &xyyyyyzfq\n",
    "hu        w%          &bfgabdeai\n",
    "ju ÍÎÏ000 w%          &Ðaifqibfe\n",
    "cu        w%          &ifejidhda\n",
    "ixyyyyyyyyz¾¿¿¿¿¿¿¿¿¿¿Àbklibifhb\n",
    "bbfgadeabfjfjbdadeafeeacopfqbfeh\n",
    "cnjibibdhbnacccbibkldaboafjicfee\n",
    "oaifmacifmabicicdhopcbneabcfhdab\n",
    "\"\"\"\n",
    "                                \n",
    "rebuild_nametable(table_grid_raw, game_reverse_index, attr_table, GAME_NAMETABLE)\n",
    "\n",
    "\n",
    "\n"
   ]
  },
  {
   "cell_type": "code",
   "execution_count": 52,
   "metadata": {},
   "outputs": [],
   "source": [
    "level_attrs = \"\"\"\n",
    "2222222222222222\n",
    "2222222222222222\n",
    "2222222222222222\n",
    "2222222222222222\n",
    "2222222222222222\n",
    "2222222222222222\n",
    "2222222222222222\n",
    "2222222222222222\n",
    "2200000000000022\n",
    "2200000000000022\n",
    "2200000000000022\n",
    "2200000000000022\n",
    "2200000000000022\n",
    "2222222222222222\n",
    "2222222222222222\n",
    "0000000000000000\"\"\"\n",
    "\n",
    "level_raw = \"\"\"\n",
    "ababcdcefcccdghghijcdgkkfefccgkh\n",
    "ijijlgmlenlokfofofgpfekfgnenokfd\n",
    "gkkfofdddgngkkfggkkfgdgkkfdgkhab\n",
    "ghcqrrrrrrrrrrrrrrrrrrrrrrrrsdij\n",
    "cllt                        vekf\n",
    "ldlt  TYPE              A   vdgh\n",
    "ofdt                        vabl\n",
    "ekft  MUSIC             0   vijd\n",
    "dght                        vgkh\n",
    "ablt  LEVEL             00  vccd\n",
    "ijdt                        vloh\n",
    "gkht  AB GARBAGE ROWS   00  vlcd\n",
    "ccdt                        vdlg\n",
    "loht  B LINES           25  vcof\n",
    "lcdt                        vokf\n",
    "dlgt  REUSE GARBAGE     0   vekf\n",
    "coft                        vdgh\n",
    "okft )********************, vabl\n",
    "cght -    NAME  SCORE  LV / vijd\n",
    "mclt :;;;;;;;;;;;;;;;;;;;;= vgkh\n",
    "dldt - 1                  / vccd\n",
    "gnct -                    / vloh\n",
    "ablt - 2                  / vlcd\n",
    "ijlt -                    / vdlg\n",
    "ccdt - 3                  / vcof\n",
    "l[]t >;;;;;;;;;;;;;;;;;;;;@ vokf\n",
    "ldct                        vcab\n",
    "denwxxxxxxxxxxxxxxxxxxxxxxxxylij\n",
    "cdefcgkhgkkfefefabekfcg^fghghofc\n",
    "lgngpfcdg^fgnclcijdgkncdabofofgp\n",
    "\"\"\"\n",
    "\n",
    "rebuild_nametable(level_raw, level_reverse_index, level_attrs, LEVEL_NAMETABLE)"
   ]
  },
  {
   "cell_type": "code",
   "execution_count": 51,
   "metadata": {},
   "outputs": [],
   "source": [
    "title_attrs = \"\"\"2222222222222222\n",
    "2222222222222222\n",
    "2222222222222222\n",
    "2333333333333332\n",
    "2111111111111122\n",
    "2222222222222222\n",
    "2200000000000022\n",
    "2000000000000022\n",
    "2000000000333322\n",
    "2200000000333322\n",
    "2200000000333322\n",
    "2200000000333322\n",
    "2220311100000022\n",
    "2222222222222222\n",
    "2222222222222222\n",
    "0000000000000000\"\"\"\n",
    "\n",
    "title_raw = \"\"\"\n",
    "ababcadefcghbaijdfkalmddfgdnafcg\n",
    "fodhfcohlmhfobpbofcgijeqaeefccah\n",
    "fcofrabaijfcgedhdlmhdfohdhna lmd\n",
    "bcadhfo fccahhefsijbo  fka   ijq\n",
    "hdfka        fo h  h          dh\n",
    "bo                            ng\n",
    "h  tuvwxvyz!tuvwxv#$%v &'()*+ dh\n",
    "bp ,-/:;/ <=,-/:;/>?@/ []^_   ed\n",
    "e  ` / {/ |}` / {/>~¹/ º»¼½   ee\n",
    "h    /  /¾¿   /  /ÀÁÂ/ Ã»ÄÅ  dhe\n",
    "bca  /  /ÆÇ   /  /È  / ÉÊ»Ë  ngh\n",
    "hd   /  / ÌÍ  /  /ÎÏ / ÎÐ»Ñ   hd\n",
    "fra  /  / ÒÓ  /  />Ô / >ÔÕÖ   dq\n",
    "ah   ×  ×ØÙÚ  ×  ×ÀÛÜ× ÀÛÝÞ   eh\n",
    "lm                            na\n",
    "ij     OPTIONS FOR B GAME    fcg\n",
    "bp                      ß   frah\n",
    "ed                   àáâãäå  hfg\n",
    "hng                 æçèéêëìí  de\n",
    "cdh                 îïðñòóôõ boh\n",
    "dqa      PUSH       ö÷øùúûüý hbp\n",
    "eh      BUTTON      þÿЉЊЋЌЍЎ  ef\n",
    "na                  ЏАБВГДЕЖ  hd\n",
    "cca                 ЗИЙКЛМНО  bo\n",
    "md                            hd\n",
    "je fra   П 1989  РСТУФХ      fco\n",
    "ge  h                     d   lm\n",
    "hhd   fg    dfcg bpbad ddfsbcaij\n",
    "lmqa ddnafraefghdefofsbonghhdfgf\n",
    "ijhfconcadhfodefshbcahhlmhdfkana\n",
    "\"\"\"\n",
    "\n",
    "rebuild_nametable(title_raw, title_reverse_index, title_attrs, TITLE_NAMETABLE)"
   ]
  }
 ],
 "metadata": {
  "kernelspec": {
   "display_name": "homevenv",
   "language": "python",
   "name": "python3"
  },
  "language_info": {
   "codemirror_mode": {
    "name": "ipython",
    "version": 3
   },
   "file_extension": ".py",
   "mimetype": "text/x-python",
   "name": "python",
   "nbconvert_exporter": "python",
   "pygments_lexer": "ipython3",
   "version": "3.10.6"
  },
  "orig_nbformat": 4,
  "vscode": {
   "interpreter": {
    "hash": "80b255f724cc986c49135734aa6acbf9731c7c594e333128c5fcd9fa4406fcc2"
   }
  }
 },
 "nbformat": 4,
 "nbformat_minor": 2
}
